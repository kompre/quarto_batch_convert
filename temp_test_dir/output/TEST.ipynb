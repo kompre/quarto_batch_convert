{
  "cells": [
    {
      "cell_type": "markdown",
      "metadata": {},
      "source": [
        "# banana"
      ]
    }
  ],
  "metadata": {
    "kernelspec": {
      "name": "python3",
      "language": "python",
      "display_name": "Python 3 (ipykernel)",
      "path": "/home/kompre/github/quarto_batch_convert/.venv/share/jupyter/kernels/python3"
    }
  },
  "nbformat": 4,
  "nbformat_minor": 4
}
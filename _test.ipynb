{
 "cells": [
  {
   "cell_type": "markdown",
   "metadata": {},
   "source": [
    "BANANA"
   ]
  },
  {
   "cell_type": "code",
   "execution_count": 1,
   "metadata": {},
   "outputs": [
    {
     "data": {
      "text/plain": [
       "['&', ' ']"
      ]
     },
     "execution_count": 1,
     "metadata": {},
     "output_type": "execute_result"
    }
   ],
   "source": [
    "from itertools import chain\n",
    "\n",
    "sep = '&='\n",
    "a = ['key0', 'val0', 'val1', 'val2']\n",
    "\n",
    "sep.join(a)\n",
    "from itertools import zip_longest\n",
    "\n",
    "d1 = {'a':1, 'b':2, 'c':3}\n",
    "d2 = {'a':11, 'c':33}\n",
    "d3 = {'a':111}\n",
    "d4 = {'a':1111, 'b':2222}\n",
    "\n",
    "\n",
    "keys = d1.keys()\n",
    "\n",
    "eqns= [d1, d2, d3, d4]\n",
    "\n",
    "sep = ['&', ' ']\n",
    "sep"
   ]
  },
  {
   "cell_type": "code",
   "execution_count": 2,
   "metadata": {},
   "outputs": [
    {
     "data": {
      "text/plain": [
       "[['a', 1, 11, 111, 1111], ['b', 2, None, None, 2222], ['c', 3, 33, None, None]]"
      ]
     },
     "execution_count": 2,
     "metadata": {},
     "output_type": "execute_result"
    }
   ],
   "source": [
    "rows_elements = [list(chain(k, [item.get(k) for item in eqns])) for k in keys]\n",
    "rows_elements"
   ]
  },
  {
   "cell_type": "code",
   "execution_count": 3,
   "metadata": {},
   "outputs": [
    {
     "data": {
      "text/plain": [
       "[(' ', ' '), ('=', ''), (' ', ' '), ('\\\\textcolor{gray}{', '}'), (' ', ' ')]"
      ]
     },
     "execution_count": 3,
     "metadata": {},
     "output_type": "execute_result"
    }
   ],
   "source": [
    "wrapper = [None, ('=', ''), None, (r'\\textcolor{gray}{', '}'), None]\n",
    "wrapper = [w if w is not None else (\" \", \" \") for w in wrapper]\n",
    "wrapper"
   ]
  },
  {
   "cell_type": "code",
   "execution_count": 4,
   "metadata": {},
   "outputs": [
    {
     "data": {
      "text/plain": [
       "[' a  &=1   11  \\\\textcolor{gray}{111}  1111  ',\n",
       " ' b  &=2       2222  ',\n",
       " ' c  &=3   33      ']"
      ]
     },
     "execution_count": 4,
     "metadata": {},
     "output_type": "execute_result"
    }
   ],
   "source": [
    "[\n",
    "    \"\".join(\n",
    "        [\n",
    "            f\"{f'{w[0]}{str(v)}{w[1]}' if v is not None else \" \"} {s}\"\n",
    "            # print(type(w))\n",
    "            for v, s, w in zip_longest(r, sep, wrapper, fillvalue=\"\")\n",
    "        ]\n",
    "    )\n",
    "    for r in rows_elements\n",
    "]"
   ]
  },
  {
   "cell_type": "code",
   "execution_count": 5,
   "metadata": {},
   "outputs": [],
   "source": [
    "from IPython.display import Markdown\n",
    "\n",
    "a = Markdown('$x$')"
   ]
  },
  {
   "cell_type": "code",
   "execution_count": 6,
   "metadata": {},
   "outputs": [
    {
     "data": {
      "text/plain": [
       "'$x$'"
      ]
     },
     "execution_count": 6,
     "metadata": {},
     "output_type": "execute_result"
    }
   ],
   "source": [
    "a.data"
   ]
  },
  {
   "cell_type": "code",
   "execution_count": 13,
   "metadata": {},
   "outputs": [],
   "source": [
    "from quarto_toolkit import *\n",
    "from pint_sympy import *\n",
    "\n",
    "u = unitregistry"
   ]
  },
  {
   "cell_type": "code",
   "execution_count": 14,
   "metadata": {},
   "outputs": [
    {
     "name": "stdout",
     "output_type": "stream",
     "text": [
      "\\begin{align}\n",
      "a & =1 & &\\mathtt{\\text{variabile}}  \\\\[8pt]\n",
      " \\mathtt{\\text{banana}} & =3 & &\\mathtt{\\text{testo semplice \\$x=5/3\\$}}  \\\\[8pt]\n",
      " ciao & =4 & &\\textcolor{green}{\\left[\\le11\\quad \\textbf{VERIFICATO}\\right]}  \\\\[8pt]\n",
      " b &   &    \\\\[8pt]\n",
      " \\dfrac{a}{b} \\geq 1 &   &   \n",
      "\\end{align}\n"
     ]
    },
    {
     "data": {
      "text/markdown": [
       "\\begin{align}\n",
       "a & =1 & &\\mathtt{\\text{variabile}}  \\\\[8pt]\n",
       " \\mathtt{\\text{banana}} & =3 & &\\mathtt{\\text{testo semplice \\$x=5/3\\$}}  \\\\[8pt]\n",
       " ciao & =4 & &\\textcolor{green}{\\left[\\le11\\quad \\textbf{VERIFICATO}\\right]}  \\\\[8pt]\n",
       " b &   &    \\\\[8pt]\n",
       " \\dfrac{a}{b} \\geq 1 &   &   \n",
       "\\end{align}"
      ],
      "text/plain": [
       "<IPython.core.display.Markdown object>"
      ]
     },
     "execution_count": 14,
     "metadata": {},
     "output_type": "execute_result"
    }
   ],
   "source": [
    "from sympy import Ge\n",
    "\n",
    "a, b = symbols(\"a b\")\n",
    "\n",
    "mdobj = Markdown(\"ciao\")\n",
    "_d = {a: 1, \"banana\": 3, mdobj: 4, b: None, Ge(a / b, 1): None}\n",
    "\n",
    "_dd = {\n",
    "    a: \"variabile\",\n",
    "    \"banana\": \"testo semplice $x=5/3$\",\n",
    "    mdobj: verifica(1, 11, Le),\n",
    "}\n",
    "\n",
    "show_eqn([_d, _dd], col_wrap=[None, (\"=\", \"\"), (\"&\", \"\")], debug=True)"
   ]
  },
  {
   "cell_type": "code",
   "execution_count": 16,
   "metadata": {},
   "outputs": [
    {
     "data": {
      "text/plain": [
       "{x: -3.12345678900000,\n",
       " y: 3.14159265358979,\n",
       " z: -9.81262890212757,\n",
       " q: 12.0000000000000,\n",
       " w: 12.0*meter}"
      ]
     },
     "execution_count": 16,
     "metadata": {},
     "output_type": "execute_result"
    }
   ],
   "source": [
    "import pipe_command as pc\n",
    "from sympy import pi, S\n",
    "x, y,z, q, w = symbols('x y z q w')\n",
    "_d = {\n",
    "    x : -3.123456789,\n",
    "    y : pi,\n",
    "    z : x*y,\n",
    "    q : 12,\n",
    "    w : q*u.m,    \n",
    "}\n",
    "_d\n",
    "\n",
    "_v = { k: S(v) | pc.subs(_d) | pc.N for k,v in _d.items()}\n",
    "_v"
   ]
  },
  {
   "cell_type": "code",
   "execution_count": 18,
   "metadata": {},
   "outputs": [
    {
     "name": "stdout",
     "output_type": "stream",
     "text": [
      "\\begin{align}\n",
      "\t\\left\\{\\begin{aligned}\n",
      "x & =-3.1235 & -3.1235  \\\\[8pt]\n",
      " y & =\\pi & +3.1416  \\\\[8pt]\n",
      " z & =x{\\,}y & -9.8126  \\\\[8pt]\n",
      " q & =12 & +12.0000  \\\\[8pt]\n",
      " w & =q{\\,}\\text{m} & +12.0000{\\,}\\text{m} \t\n",
      "\\end{aligned}\\right.\n",
      "\\end{align}\n"
     ]
    },
    {
     "data": {
      "text/markdown": [
       "\\begin{align}\n",
       "\t\\left\\{\\begin{aligned}\n",
       "x & =-3.1235 & -3.1235  \\\\[8pt]\n",
       " y & =\\pi & +3.1416  \\\\[8pt]\n",
       " z & =x{\\,}y & -9.8126  \\\\[8pt]\n",
       " q & =12 & +12.0000  \\\\[8pt]\n",
       " w & =q{\\,}\\text{m} & +12.0000{\\,}\\text{m} \t\n",
       "\\end{aligned}\\right.\n",
       "\\end{align}"
      ],
      "text/plain": [
       "<IPython.core.display.Markdown object>"
      ]
     },
     "execution_count": 18,
     "metadata": {},
     "output_type": "execute_result"
    }
   ],
   "source": [
    "show_eqn([_d, _v], mul_symbol=r'\\,', environment='cases', debug=True, float_format='{:+.4f}')"
   ]
  },
  {
   "cell_type": "code",
   "execution_count": 19,
   "metadata": {},
   "outputs": [
    {
     "data": {
      "text/plain": [
       "<module 're' from 'C:\\\\Program Files\\\\Python312\\\\Lib\\\\re\\\\__init__.py'>"
      ]
     },
     "execution_count": 19,
     "metadata": {},
     "output_type": "execute_result"
    }
   ],
   "source": [
    "re"
   ]
  },
  {
   "cell_type": "code",
   "execution_count": 20,
   "metadata": {},
   "outputs": [
    {
     "data": {
      "text/latex": [
       "$\\displaystyle x_{2} y_{1}$"
      ],
      "text/plain": [
       "x2*y_1"
      ]
     },
     "execution_count": 20,
     "metadata": {},
     "output_type": "execute_result"
    }
   ],
   "source": [
    "import pipe_command as pc\n",
    "import sympy as sp\n",
    "x, y = sp.symbols('x_1 y_1')\n",
    "\"x*y\" | pc.parse_expr(local_dict=locals()|{'x': sp.Symbol('x2')})\n",
    "# \"2*x*y\" | pc.parse_expr(evaluate=True)\n",
    "# \"3*x*y\" | pc.parse_expr\n"
   ]
  },
  {
   "cell_type": "code",
   "execution_count": 33,
   "metadata": {},
   "outputs": [],
   "source": [
    "x, z = sp.symbols('x333, z4')"
   ]
  },
  {
   "cell_type": "code",
   "execution_count": 34,
   "metadata": {},
   "outputs": [
    {
     "data": {
      "text/latex": [
       "$\\displaystyle 4 x_{333} y_{1}$"
      ],
      "text/plain": [
       "4*x333*y_1"
      ]
     },
     "execution_count": 34,
     "metadata": {},
     "output_type": "execute_result"
    }
   ],
   "source": [
    "\"4*x*y\" | pc.parse_expr(local_dict=locals())"
   ]
  },
  {
   "cell_type": "code",
   "execution_count": 35,
   "metadata": {},
   "outputs": [
    {
     "data": {
      "text/plain": [
       "{'__name__': '__main__',\n",
       " '__doc__': 'Automatically created module for IPython interactive environment',\n",
       " '__package__': None,\n",
       " '__loader__': None,\n",
       " '__spec__': None,\n",
       " '__builtin__': <module 'builtins' (built-in)>,\n",
       " '__builtins__': <module 'builtins' (built-in)>,\n",
       " '_ih': ['',\n",
       "  \"from itertools import chain\\n\\nsep = '&='\\na = ['key0', 'val0', 'val1', 'val2']\\n\\nsep.join(a)\\nfrom itertools import zip_longest\\n\\nd1 = {'a':1, 'b':2, 'c':3}\\nd2 = {'a':11, 'c':33}\\nd3 = {'a':111}\\nd4 = {'a':1111, 'b':2222}\\n\\n\\nkeys = d1.keys()\\n\\neqns= [d1, d2, d3, d4]\\n\\nsep = ['&', ' ']\\nsep\",\n",
       "  'rows_elements = [list(chain(k, [item.get(k) for item in eqns])) for k in keys]\\nrows_elements',\n",
       "  'wrapper = [None, (\\'=\\', \\'\\'), None, (r\\'\\\\textcolor{gray}{\\', \\'}\\'), None]\\nwrapper = [w if w is not None else (\" \", \" \") for w in wrapper]\\nwrapper',\n",
       "  '[\\n    \"\".join(\\n        [\\n            f\"{f\\'{w[0]}{str(v)}{w[1]}\\' if v is not None else \" \"} {s}\"\\n            # print(type(w))\\n            for v, s, w in zip_longest(r, sep, wrapper, fillvalue=\"\")\\n        ]\\n    )\\n    for r in rows_elements\\n]',\n",
       "  \"from IPython.display import Markdown\\n\\na = Markdown('$x$')\",\n",
       "  'a.data',\n",
       "  'from quarto_toolkit import *',\n",
       "  'a, b = symbols(\"a b\")\\n\\nmdobj = Markdown(\"ciao\")\\n_d = {a: 1, \"banana\": 3, mdobj: 4, b: None, Ge(a / b, 1): None}\\n\\n_dd = {\\n    a: \"variabile\",\\n    \"banana\": \"testo semplice $x=5/3$\",\\n    mdobj: Markdown(verifica(1, 11, Le)),\\n}\\n\\nshow_eqn([_d, _dd], col_wrap=[None, (\"=\", \"\"), (\"&\", \"\")], debug=True)',\n",
       "  'from sympy import Ge\\n\\na, b = symbols(\"a b\")\\n\\nmdobj = Markdown(\"ciao\")\\n_d = {a: 1, \"banana\": 3, mdobj: 4, b: None, Ge(a / b, 1): None}\\n\\n_dd = {\\n    a: \"variabile\",\\n    \"banana\": \"testo semplice $x=5/3$\",\\n    mdobj: Markdown(verifica(1, 11, Le)),\\n}\\n\\nshow_eqn([_d, _dd], col_wrap=[None, (\"=\", \"\"), (\"&\", \"\")], debug=True)',\n",
       "  'from sympy import Ge\\n\\na, b = symbols(\"a b\")\\n\\nmdobj = Markdown(\"ciao\")\\n_d = {a: 1, \"banana\": 3, mdobj: 4, b: None, Ge(a / b, 1): None}\\n\\n_dd = {\\n    a: \"variabile\",\\n    \"banana\": \"testo semplice $x=5/3$\",\\n    mdobj: verifica(1, 11, Le),\\n}\\n\\nshow_eqn([_d, _dd], col_wrap=[None, (\"=\", \"\"), (\"&\", \"\")], debug=True)',\n",
       "  \"from sympy import pi, S\\nx, y,z, q, w = symbols('x y z q w')\\n_d = {\\n    x : -3.123456789,\\n    y : pi,\\n    z : x*y,\\n    q : 12,\\n    w : q*u.m,    \\n}\\n_d\\n\\n_v = { k: S(v) | PipeCommand.subs(_d) | PipeCommand.N for k,v in _d.items()}\\n_v\",\n",
       "  'from quarto_toolkit import *\\nfrom pint_sympy import *\\n\\nu = unitregistry',\n",
       "  'from quarto_toolkit import *\\nfrom pint_sympy import *\\n\\nu = unitregistry',\n",
       "  'from sympy import Ge\\n\\na, b = symbols(\"a b\")\\n\\nmdobj = Markdown(\"ciao\")\\n_d = {a: 1, \"banana\": 3, mdobj: 4, b: None, Ge(a / b, 1): None}\\n\\n_dd = {\\n    a: \"variabile\",\\n    \"banana\": \"testo semplice $x=5/3$\",\\n    mdobj: verifica(1, 11, Le),\\n}\\n\\nshow_eqn([_d, _dd], col_wrap=[None, (\"=\", \"\"), (\"&\", \"\")], debug=True)',\n",
       "  \"from sympy import pi, S\\nx, y,z, q, w = symbols('x y z q w')\\n_d = {\\n    x : -3.123456789,\\n    y : pi,\\n    z : x*y,\\n    q : 12,\\n    w : q*u.m,    \\n}\\n_d\\n\\n_v = { k: S(v) | PipeCommand.subs(_d) | PipeCommand.N for k,v in _d.items()}\\n_v\",\n",
       "  \"import pipe_command as pc\\nfrom sympy import pi, S\\nx, y,z, q, w = symbols('x y z q w')\\n_d = {\\n    x : -3.123456789,\\n    y : pi,\\n    z : x*y,\\n    q : 12,\\n    w : q*u.m,    \\n}\\n_d\\n\\n_v = { k: S(v) | pc.subs(_d) | pc.N for k,v in _d.items()}\\n_v\",\n",
       "  \"show_eqn([_d, _v], mul_symbol=r'\\\\,', environment='cases', debug=True, float_format='{:+.4f}')\",\n",
       "  \"show_eqn([_d, _v], mul_symbol=r'\\\\,', environment='cases', debug=True, float_format='{:+.4f}')\",\n",
       "  're',\n",
       "  'import pipe_command as pc\\nimport sympy as sp\\nx, y = sp.symbols(\\'x_1 y_1\\')\\n\"x*y\" | pc.parse_expr(local_dict=locals()|{\\'x\\': sp.Symbol(\\'x2\\')})\\n# \"2*x*y\" | pc.parse_expr(evaluate=True)\\n# \"3*x*y\" | pc.parse_expr',\n",
       "  \"x, z = sp.symbols('x3, z4')\",\n",
       "  '\"4*x*y\" | pc.parse_expr',\n",
       "  '\"4*x*y\" | pc.parse_expr(local_dict=locals())',\n",
       "  'from inspect import currentframe\\n\\nc = currentframe',\n",
       "  'from inspect import currentframe\\n\\nc = currentframe()',\n",
       "  'from inspect import currentframe\\n\\nc = currentframe()\\nc',\n",
       "  'from inspect import currentframe\\n\\nc = currentframe()\\nc.f_locals',\n",
       "  'from inspect import currentframe\\n\\nc = currentframe()\\nx in c.f_locals',\n",
       "  'from inspect import currentframe\\n\\nc = currentframe()\\nstr(x) in c.f_locals',\n",
       "  'from inspect import currentframe\\n\\nc = currentframe()\\nrepr(x) in c.f_locals',\n",
       "  'from inspect import currentframe\\n\\nc = currentframe()\\nc.f_locals',\n",
       "  \"x, z = sp.symbols('x333, z4')\",\n",
       "  \"x, z = sp.symbols('x333, z4')\",\n",
       "  '\"4*x*y\" | pc.parse_expr(local_dict=locals())',\n",
       "  'from inspect import currentframe\\n\\nc = currentframe()\\nc.f_locals'],\n",
       " '_oh': {1: ['&', ' '],\n",
       "  2: [['a', 1, 11, 111, 1111],\n",
       "   ['b', 2, None, None, 2222],\n",
       "   ['c', 3, 33, None, None]],\n",
       "  3: [(' ', ' '),\n",
       "   ('=', ''),\n",
       "   (' ', ' '),\n",
       "   ('\\\\textcolor{gray}{', '}'),\n",
       "   (' ', ' ')],\n",
       "  4: [' a  &=1   11  \\\\textcolor{gray}{111}  1111  ',\n",
       "   ' b  &=2       2222  ',\n",
       "   ' c  &=3   33      '],\n",
       "  6: '$x$',\n",
       "  10: <IPython.core.display.Markdown object>,\n",
       "  14: <IPython.core.display.Markdown object>,\n",
       "  16: {x: -3.12345678900000,\n",
       "   y: 3.14159265358979,\n",
       "   z: -9.81262890212757,\n",
       "   q: 12.0000000000000,\n",
       "   w: 12.0*meter},\n",
       "  17: <IPython.core.display.Markdown object>,\n",
       "  18: <IPython.core.display.Markdown object>,\n",
       "  19: <module 're' from 'C:\\\\Program Files\\\\Python312\\\\Lib\\\\re\\\\__init__.py'>,\n",
       "  20: x2*y_1,\n",
       "  22: 4*x*y,\n",
       "  23: 4*x3*y_1,\n",
       "  26: <frame at 0x00000170C8237880, file 'C:\\\\Users\\\\s.follador\\\\AppData\\\\Local\\\\Temp\\\\ipykernel_48584\\\\2317859189.py', line 3, code <module>>,\n",
       "  27: {...},\n",
       "  28: False,\n",
       "  29: False,\n",
       "  30: False,\n",
       "  31: {...},\n",
       "  34: 4*x333*y_1},\n",
       " '_dh': [WindowsPath('c:/Users/s.follador/Documents/github/quarto_toolkit'),\n",
       "  WindowsPath('c:/Users/s.follador/Documents/github/quarto_toolkit')],\n",
       " 'In': ['',\n",
       "  \"from itertools import chain\\n\\nsep = '&='\\na = ['key0', 'val0', 'val1', 'val2']\\n\\nsep.join(a)\\nfrom itertools import zip_longest\\n\\nd1 = {'a':1, 'b':2, 'c':3}\\nd2 = {'a':11, 'c':33}\\nd3 = {'a':111}\\nd4 = {'a':1111, 'b':2222}\\n\\n\\nkeys = d1.keys()\\n\\neqns= [d1, d2, d3, d4]\\n\\nsep = ['&', ' ']\\nsep\",\n",
       "  'rows_elements = [list(chain(k, [item.get(k) for item in eqns])) for k in keys]\\nrows_elements',\n",
       "  'wrapper = [None, (\\'=\\', \\'\\'), None, (r\\'\\\\textcolor{gray}{\\', \\'}\\'), None]\\nwrapper = [w if w is not None else (\" \", \" \") for w in wrapper]\\nwrapper',\n",
       "  '[\\n    \"\".join(\\n        [\\n            f\"{f\\'{w[0]}{str(v)}{w[1]}\\' if v is not None else \" \"} {s}\"\\n            # print(type(w))\\n            for v, s, w in zip_longest(r, sep, wrapper, fillvalue=\"\")\\n        ]\\n    )\\n    for r in rows_elements\\n]',\n",
       "  \"from IPython.display import Markdown\\n\\na = Markdown('$x$')\",\n",
       "  'a.data',\n",
       "  'from quarto_toolkit import *',\n",
       "  'a, b = symbols(\"a b\")\\n\\nmdobj = Markdown(\"ciao\")\\n_d = {a: 1, \"banana\": 3, mdobj: 4, b: None, Ge(a / b, 1): None}\\n\\n_dd = {\\n    a: \"variabile\",\\n    \"banana\": \"testo semplice $x=5/3$\",\\n    mdobj: Markdown(verifica(1, 11, Le)),\\n}\\n\\nshow_eqn([_d, _dd], col_wrap=[None, (\"=\", \"\"), (\"&\", \"\")], debug=True)',\n",
       "  'from sympy import Ge\\n\\na, b = symbols(\"a b\")\\n\\nmdobj = Markdown(\"ciao\")\\n_d = {a: 1, \"banana\": 3, mdobj: 4, b: None, Ge(a / b, 1): None}\\n\\n_dd = {\\n    a: \"variabile\",\\n    \"banana\": \"testo semplice $x=5/3$\",\\n    mdobj: Markdown(verifica(1, 11, Le)),\\n}\\n\\nshow_eqn([_d, _dd], col_wrap=[None, (\"=\", \"\"), (\"&\", \"\")], debug=True)',\n",
       "  'from sympy import Ge\\n\\na, b = symbols(\"a b\")\\n\\nmdobj = Markdown(\"ciao\")\\n_d = {a: 1, \"banana\": 3, mdobj: 4, b: None, Ge(a / b, 1): None}\\n\\n_dd = {\\n    a: \"variabile\",\\n    \"banana\": \"testo semplice $x=5/3$\",\\n    mdobj: verifica(1, 11, Le),\\n}\\n\\nshow_eqn([_d, _dd], col_wrap=[None, (\"=\", \"\"), (\"&\", \"\")], debug=True)',\n",
       "  \"from sympy import pi, S\\nx, y,z, q, w = symbols('x y z q w')\\n_d = {\\n    x : -3.123456789,\\n    y : pi,\\n    z : x*y,\\n    q : 12,\\n    w : q*u.m,    \\n}\\n_d\\n\\n_v = { k: S(v) | PipeCommand.subs(_d) | PipeCommand.N for k,v in _d.items()}\\n_v\",\n",
       "  'from quarto_toolkit import *\\nfrom pint_sympy import *\\n\\nu = unitregistry',\n",
       "  'from quarto_toolkit import *\\nfrom pint_sympy import *\\n\\nu = unitregistry',\n",
       "  'from sympy import Ge\\n\\na, b = symbols(\"a b\")\\n\\nmdobj = Markdown(\"ciao\")\\n_d = {a: 1, \"banana\": 3, mdobj: 4, b: None, Ge(a / b, 1): None}\\n\\n_dd = {\\n    a: \"variabile\",\\n    \"banana\": \"testo semplice $x=5/3$\",\\n    mdobj: verifica(1, 11, Le),\\n}\\n\\nshow_eqn([_d, _dd], col_wrap=[None, (\"=\", \"\"), (\"&\", \"\")], debug=True)',\n",
       "  \"from sympy import pi, S\\nx, y,z, q, w = symbols('x y z q w')\\n_d = {\\n    x : -3.123456789,\\n    y : pi,\\n    z : x*y,\\n    q : 12,\\n    w : q*u.m,    \\n}\\n_d\\n\\n_v = { k: S(v) | PipeCommand.subs(_d) | PipeCommand.N for k,v in _d.items()}\\n_v\",\n",
       "  \"import pipe_command as pc\\nfrom sympy import pi, S\\nx, y,z, q, w = symbols('x y z q w')\\n_d = {\\n    x : -3.123456789,\\n    y : pi,\\n    z : x*y,\\n    q : 12,\\n    w : q*u.m,    \\n}\\n_d\\n\\n_v = { k: S(v) | pc.subs(_d) | pc.N for k,v in _d.items()}\\n_v\",\n",
       "  \"show_eqn([_d, _v], mul_symbol=r'\\\\,', environment='cases', debug=True, float_format='{:+.4f}')\",\n",
       "  \"show_eqn([_d, _v], mul_symbol=r'\\\\,', environment='cases', debug=True, float_format='{:+.4f}')\",\n",
       "  're',\n",
       "  'import pipe_command as pc\\nimport sympy as sp\\nx, y = sp.symbols(\\'x_1 y_1\\')\\n\"x*y\" | pc.parse_expr(local_dict=locals()|{\\'x\\': sp.Symbol(\\'x2\\')})\\n# \"2*x*y\" | pc.parse_expr(evaluate=True)\\n# \"3*x*y\" | pc.parse_expr',\n",
       "  \"x, z = sp.symbols('x3, z4')\",\n",
       "  '\"4*x*y\" | pc.parse_expr',\n",
       "  '\"4*x*y\" | pc.parse_expr(local_dict=locals())',\n",
       "  'from inspect import currentframe\\n\\nc = currentframe',\n",
       "  'from inspect import currentframe\\n\\nc = currentframe()',\n",
       "  'from inspect import currentframe\\n\\nc = currentframe()\\nc',\n",
       "  'from inspect import currentframe\\n\\nc = currentframe()\\nc.f_locals',\n",
       "  'from inspect import currentframe\\n\\nc = currentframe()\\nx in c.f_locals',\n",
       "  'from inspect import currentframe\\n\\nc = currentframe()\\nstr(x) in c.f_locals',\n",
       "  'from inspect import currentframe\\n\\nc = currentframe()\\nrepr(x) in c.f_locals',\n",
       "  'from inspect import currentframe\\n\\nc = currentframe()\\nc.f_locals',\n",
       "  \"x, z = sp.symbols('x333, z4')\",\n",
       "  \"x, z = sp.symbols('x333, z4')\",\n",
       "  '\"4*x*y\" | pc.parse_expr(local_dict=locals())',\n",
       "  'from inspect import currentframe\\n\\nc = currentframe()\\nc.f_locals'],\n",
       " 'Out': {1: ['&', ' '],\n",
       "  2: [['a', 1, 11, 111, 1111],\n",
       "   ['b', 2, None, None, 2222],\n",
       "   ['c', 3, 33, None, None]],\n",
       "  3: [(' ', ' '),\n",
       "   ('=', ''),\n",
       "   (' ', ' '),\n",
       "   ('\\\\textcolor{gray}{', '}'),\n",
       "   (' ', ' ')],\n",
       "  4: [' a  &=1   11  \\\\textcolor{gray}{111}  1111  ',\n",
       "   ' b  &=2       2222  ',\n",
       "   ' c  &=3   33      '],\n",
       "  6: '$x$',\n",
       "  10: <IPython.core.display.Markdown object>,\n",
       "  14: <IPython.core.display.Markdown object>,\n",
       "  16: {x: -3.12345678900000,\n",
       "   y: 3.14159265358979,\n",
       "   z: -9.81262890212757,\n",
       "   q: 12.0000000000000,\n",
       "   w: 12.0*meter},\n",
       "  17: <IPython.core.display.Markdown object>,\n",
       "  18: <IPython.core.display.Markdown object>,\n",
       "  19: <module 're' from 'C:\\\\Program Files\\\\Python312\\\\Lib\\\\re\\\\__init__.py'>,\n",
       "  20: x2*y_1,\n",
       "  22: 4*x*y,\n",
       "  23: 4*x3*y_1,\n",
       "  26: <frame at 0x00000170C8237880, file 'C:\\\\Users\\\\s.follador\\\\AppData\\\\Local\\\\Temp\\\\ipykernel_48584\\\\2317859189.py', line 3, code <module>>,\n",
       "  27: {...},\n",
       "  28: False,\n",
       "  29: False,\n",
       "  30: False,\n",
       "  31: {...},\n",
       "  34: 4*x333*y_1},\n",
       " 'get_ipython': <bound method InteractiveShell.get_ipython of <ipykernel.zmqshell.ZMQInteractiveShell object at 0x00000170C4EA5070>>,\n",
       " 'exit': <IPython.core.autocall.ZMQExitAutocall at 0x170c4d25ee0>,\n",
       " 'quit': <IPython.core.autocall.ZMQExitAutocall at 0x170c4d25ee0>,\n",
       " 'open': <function _io.open(file, mode='r', buffering=-1, encoding=None, errors=None, newline=None, closefd=True, opener=None)>,\n",
       " '_': 4*x333*y_1,\n",
       " '__': {...},\n",
       " '___': False,\n",
       " '__vsc_ipynb_file__': 'c:\\\\Users\\\\s.follador\\\\Documents\\\\github\\\\quarto_toolkit\\\\test.ipynb',\n",
       " '_i': '\"4*x*y\" | pc.parse_expr(local_dict=locals())',\n",
       " '_ii': \"x, z = sp.symbols('x333, z4')\",\n",
       " '_iii': \"x, z = sp.symbols('x333, z4')\",\n",
       " '_i1': \"from itertools import chain\\n\\nsep = '&='\\na = ['key0', 'val0', 'val1', 'val2']\\n\\nsep.join(a)\\nfrom itertools import zip_longest\\n\\nd1 = {'a':1, 'b':2, 'c':3}\\nd2 = {'a':11, 'c':33}\\nd3 = {'a':111}\\nd4 = {'a':1111, 'b':2222}\\n\\n\\nkeys = d1.keys()\\n\\neqns= [d1, d2, d3, d4]\\n\\nsep = ['&', ' ']\\nsep\",\n",
       " 'chain': itertools.chain,\n",
       " 'sep': ['&', ' '],\n",
       " 'a': a,\n",
       " 'zip_longest': itertools.zip_longest,\n",
       " 'd1': {'a': 1, 'b': 2, 'c': 3},\n",
       " 'd2': {'a': 11, 'c': 33},\n",
       " 'd3': {'a': 111},\n",
       " 'd4': {'a': 1111, 'b': 2222},\n",
       " 'keys': dict_keys(['a', 'b', 'c']),\n",
       " 'eqns': [{'a': 1, 'b': 2, 'c': 3},\n",
       "  {'a': 11, 'c': 33},\n",
       "  {'a': 111},\n",
       "  {'a': 1111, 'b': 2222}],\n",
       " '_1': ['&', ' '],\n",
       " '_i2': 'rows_elements = [list(chain(k, [item.get(k) for item in eqns])) for k in keys]\\nrows_elements',\n",
       " 'rows_elements': [['a', 1, 11, 111, 1111],\n",
       "  ['b', 2, None, None, 2222],\n",
       "  ['c', 3, 33, None, None]],\n",
       " '_2': [['a', 1, 11, 111, 1111],\n",
       "  ['b', 2, None, None, 2222],\n",
       "  ['c', 3, 33, None, None]],\n",
       " '_i3': 'wrapper = [None, (\\'=\\', \\'\\'), None, (r\\'\\\\textcolor{gray}{\\', \\'}\\'), None]\\nwrapper = [w if w is not None else (\" \", \" \") for w in wrapper]\\nwrapper',\n",
       " 'wrapper': [(' ', ' '),\n",
       "  ('=', ''),\n",
       "  (' ', ' '),\n",
       "  ('\\\\textcolor{gray}{', '}'),\n",
       "  (' ', ' ')],\n",
       " '_3': [(' ', ' '),\n",
       "  ('=', ''),\n",
       "  (' ', ' '),\n",
       "  ('\\\\textcolor{gray}{', '}'),\n",
       "  (' ', ' ')],\n",
       " '_i4': '[\\n    \"\".join(\\n        [\\n            f\"{f\\'{w[0]}{str(v)}{w[1]}\\' if v is not None else \" \"} {s}\"\\n            # print(type(w))\\n            for v, s, w in zip_longest(r, sep, wrapper, fillvalue=\"\")\\n        ]\\n    )\\n    for r in rows_elements\\n]',\n",
       " '_4': [' a  &=1   11  \\\\textcolor{gray}{111}  1111  ',\n",
       "  ' b  &=2       2222  ',\n",
       "  ' c  &=3   33      '],\n",
       " '_i5': \"from IPython.display import Markdown\\n\\na = Markdown('$x$')\",\n",
       " 'Markdown': IPython.core.display.Markdown,\n",
       " '_i6': 'a.data',\n",
       " '_6': '$x$',\n",
       " '_i7': 'from quarto_toolkit import *',\n",
       " 'warn': <function _warnings.warn>,\n",
       " 'latex': <sympy.printing.printer._PrintFunction at 0x170c5972600>,\n",
       " 'Eq': sympy.core.relational.Equality,\n",
       " 'Le': sympy.core.relational.LessThan,\n",
       " 'symbols': <function sympy.core.symbol.symbols(names, *, cls=<class 'sympy.core.symbol.Symbol'>, **args) -> 'Any'>,\n",
       " 'Basic': sympy.core.basic.Basic,\n",
       " 'FunctionClass': sympy.core.function.FunctionClass,\n",
       " 'Dict': sympy.core.containers.Dict,\n",
       " 'display': <function IPython.core.display_functions.display(*objs, include=None, exclude=None, metadata=None, transient=None, display_id=None, raw=False, clear=False, **kwargs)>,\n",
       " 're': <module 're' from 'C:\\\\Program Files\\\\Python312\\\\Lib\\\\re\\\\__init__.py'>,\n",
       " 'KaTeX_compatibility': {'default_environment': 'align',\n",
       "  'default_label_command': '\\\\\\\\%\\\\label',\n",
       "  'default_mul_symbol': '\\\\,'},\n",
       " 'EQ_PREFIX': 'eq-',\n",
       " 'EQ_SUFFIX': '',\n",
       " 'VERTICAL_SKIP': '8pt',\n",
       " 'PRINT_LABEL': True,\n",
       " 'replacement': {'^{1}': '',\n",
       "  '^{1 \\\\cdot': '^{ ',\n",
       "  '\\\\frac': '\\\\dfrac',\n",
       "  '\\\\\\\\': '\\\\\\\\[8pt]',\n",
       "  'for': 'per',\n",
       "  'otherwise': 'altrimenti',\n",
       "  '\\\\,': '{\\\\,}'},\n",
       " 'verifica': <function quarto_toolkit.verifica(lhs, rhs, test=<class 'sympy.core.relational.LessThan'>) -> IPython.core.display.Markdown>,\n",
       " 'show_eqn': <function quarto_toolkit.show_eqn(eqns: dict | list[dict], environment: str = 'align', sep: str | list[str] = '&', label: str | dict = None, label_command: str = None, col_wrap: list[None | tuple] = None, float_format: str = None, debug: bool = False, **kwargs) -> IPython.core.display.Markdown>,\n",
       " 'myprint_latex': <function quarto_toolkit.myprint_latex(expr: sympy.core.basic.Basic | str | IPython.core.display.Markdown, **kwargs) -> str>,\n",
       " 'format_decimal_numbers': <function quarto_toolkit.format_decimal_numbers(text, format_string='{:.2f}')>,\n",
       " 'dict_to_eq': <function quarto_toolkit.dict_to_eq(result: dict)>,\n",
       " 'eq_to_dict': <function quarto_toolkit.eq_to_dict(result: sympy.core.relational.Equality | list | tuple)>,\n",
       " 'fd': <module 'flatten_dict' from 'c:\\\\Users\\\\s.follador\\\\Documents\\\\github\\\\quarto_toolkit\\\\.venv\\\\Lib\\\\site-packages\\\\flatten_dict\\\\__init__.py'>,\n",
       " 'yaml': <module 'yaml' from 'c:\\\\Users\\\\s.follador\\\\Documents\\\\github\\\\quarto_toolkit\\\\.venv\\\\Lib\\\\site-packages\\\\yaml\\\\__init__.py'>,\n",
       " 'load_data': <function quarto_toolkit.load_data(main: str, updated_value: str) -> dict>,\n",
       " 'escape_name': <function quarto_toolkit.escape_name(symbol_name, dict_of_subs={})>,\n",
       " 'escape_var': <function quarto_toolkit.escape_var(names, dict_of_subs=None, **args)>,\n",
       " 'replace_all': <function quarto_toolkit.replace_all(body, reps={'^{1}': '', '^{1 \\\\cdot': '^{ ', '\\\\frac': '\\\\dfrac', '\\\\\\\\': '\\\\\\\\[8pt]', 'for': 'per', 'otherwise': 'altrimenti', '\\\\,': '{\\\\,}'})>,\n",
       " 'latex_inline_dict': <function quarto_toolkit.latex_inline_dict(var, mapping: dict, **kwargs)>,\n",
       " 'os': <module 'os' (frozen)>,\n",
       " 'Path': pathlib.Path,\n",
       " 'insert_images': <function quarto_toolkit.insert_images(source_path, dest_path='.', fig_opt='')>,\n",
       " '_i8': 'a, b = symbols(\"a b\")\\n\\nmdobj = Markdown(\"ciao\")\\n_d = {a: 1, \"banana\": 3, mdobj: 4, b: None, Ge(a / b, 1): None}\\n\\n_dd = {\\n    a: \"variabile\",\\n    \"banana\": \"testo semplice $x=5/3$\",\\n    mdobj: Markdown(verifica(1, 11, Le)),\\n}\\n\\nshow_eqn([_d, _dd], col_wrap=[None, (\"=\", \"\"), (\"&\", \"\")], debug=True)',\n",
       " 'b': b,\n",
       " 'mdobj': <IPython.core.display.Markdown object>,\n",
       " '_i9': 'from sympy import Ge\\n\\na, b = symbols(\"a b\")\\n\\nmdobj = Markdown(\"ciao\")\\n_d = {a: 1, \"banana\": 3, mdobj: 4, b: None, Ge(a / b, 1): None}\\n\\n_dd = {\\n    a: \"variabile\",\\n    \"banana\": \"testo semplice $x=5/3$\",\\n    mdobj: Markdown(verifica(1, 11, Le)),\\n}\\n\\nshow_eqn([_d, _dd], col_wrap=[None, (\"=\", \"\"), (\"&\", \"\")], debug=True)',\n",
       " 'Ge': sympy.core.relational.GreaterThan,\n",
       " '_d': {x: -3.123456789, y: pi, z: x*y, q: 12, w: meter*q},\n",
       " '_i10': 'from sympy import Ge\\n\\na, b = symbols(\"a b\")\\n\\nmdobj = Markdown(\"ciao\")\\n_d = {a: 1, \"banana\": 3, mdobj: 4, b: None, Ge(a / b, 1): None}\\n\\n_dd = {\\n    a: \"variabile\",\\n    \"banana\": \"testo semplice $x=5/3$\",\\n    mdobj: verifica(1, 11, Le),\\n}\\n\\nshow_eqn([_d, _dd], col_wrap=[None, (\"=\", \"\"), (\"&\", \"\")], debug=True)',\n",
       " '_dd': {a: 'variabile',\n",
       "  'banana': 'testo semplice $x=5/3$',\n",
       "  <IPython.core.display.Markdown object>: <IPython.core.display.Markdown object>},\n",
       " '_10': <IPython.core.display.Markdown object>,\n",
       " '_i11': \"from sympy import pi, S\\nx, y,z, q, w = symbols('x y z q w')\\n_d = {\\n    x : -3.123456789,\\n    y : pi,\\n    z : x*y,\\n    q : 12,\\n    w : q*u.m,    \\n}\\n_d\\n\\n_v = { k: S(v) | PipeCommand.subs(_d) | PipeCommand.N for k,v in _d.items()}\\n_v\",\n",
       " 'pi': pi,\n",
       " 'S': S,\n",
       " 'x': x333,\n",
       " 'y': y_1,\n",
       " 'z': z4,\n",
       " 'q': q,\n",
       " 'w': w,\n",
       " '_i12': 'from quarto_toolkit import *\\nfrom pint_sympy import *\\n\\nu = unitregistry',\n",
       " 'pint': <module 'pint' from 'c:\\\\Users\\\\s.follador\\\\Documents\\\\github\\\\quarto_toolkit\\\\.venv\\\\Lib\\\\site-packages\\\\pint\\\\__init__.py'>,\n",
       " 'sympy_units': <module 'sympy.physics.units' from 'c:\\\\Users\\\\s.follador\\\\Documents\\\\github\\\\quarto_toolkit\\\\.venv\\\\Lib\\\\site-packages\\\\sympy\\\\physics\\\\units\\\\__init__.py'>,\n",
       " 'convert_to': <function sympy.physics.units.util.convert_to(expr, target_units, unit_system='SI')>,\n",
       " 'nsimplify': <function sympy.simplify.simplify.nsimplify(expr, constants=(), tolerance=None, full=False, rational=None, rational_conversion='base10')>,\n",
       " 'sympify': <function sympy.core.sympify.sympify(a, locals=None, convert_xor=True, strict=False, rational=False, evaluate=None)>,\n",
       " 'unitregistry': <pint.registry.UnitRegistry at 0x170c4f04a10>,\n",
       " 'pint_to_sympy': <function pint_sympy.pint_to_sympy(quantity: pint.Quantity)>,\n",
       " 'u': <pint.registry.UnitRegistry at 0x170c4f04a10>,\n",
       " '_i13': 'from quarto_toolkit import *\\nfrom pint_sympy import *\\n\\nu = unitregistry',\n",
       " '_i14': 'from sympy import Ge\\n\\na, b = symbols(\"a b\")\\n\\nmdobj = Markdown(\"ciao\")\\n_d = {a: 1, \"banana\": 3, mdobj: 4, b: None, Ge(a / b, 1): None}\\n\\n_dd = {\\n    a: \"variabile\",\\n    \"banana\": \"testo semplice $x=5/3$\",\\n    mdobj: verifica(1, 11, Le),\\n}\\n\\nshow_eqn([_d, _dd], col_wrap=[None, (\"=\", \"\"), (\"&\", \"\")], debug=True)',\n",
       " '_14': <IPython.core.display.Markdown object>,\n",
       " '_i15': \"from sympy import pi, S\\nx, y,z, q, w = symbols('x y z q w')\\n_d = {\\n    x : -3.123456789,\\n    y : pi,\\n    z : x*y,\\n    q : 12,\\n    w : q*u.m,    \\n}\\n_d\\n\\n_v = { k: S(v) | PipeCommand.subs(_d) | PipeCommand.N for k,v in _d.items()}\\n_v\",\n",
       " '_i16': \"import pipe_command as pc\\nfrom sympy import pi, S\\nx, y,z, q, w = symbols('x y z q w')\\n_d = {\\n    x : -3.123456789,\\n    y : pi,\\n    z : x*y,\\n    q : 12,\\n    w : q*u.m,    \\n}\\n_d\\n\\n_v = { k: S(v) | pc.subs(_d) | pc.N for k,v in _d.items()}\\n_v\",\n",
       " 'pc': <module 'pipe_command' from 'c:\\\\Users\\\\s.follador\\\\Documents\\\\github\\\\quarto_toolkit\\\\pipe_command.py'>,\n",
       " '_v': {x: -3.12345678900000,\n",
       "  y: 3.14159265358979,\n",
       "  z: -9.81262890212757,\n",
       "  q: 12.0000000000000,\n",
       "  w: 12.0*meter},\n",
       " '_16': {x: -3.12345678900000,\n",
       "  y: 3.14159265358979,\n",
       "  z: -9.81262890212757,\n",
       "  q: 12.0000000000000,\n",
       "  w: 12.0*meter},\n",
       " '_i17': \"show_eqn([_d, _v], mul_symbol=r'\\\\,', environment='cases', debug=True, float_format='{:+.4f}')\",\n",
       " '_17': <IPython.core.display.Markdown object>,\n",
       " '_i18': \"show_eqn([_d, _v], mul_symbol=r'\\\\,', environment='cases', debug=True, float_format='{:+.4f}')\",\n",
       " '_18': <IPython.core.display.Markdown object>,\n",
       " '_i19': 're',\n",
       " '_19': <module 're' from 'C:\\\\Program Files\\\\Python312\\\\Lib\\\\re\\\\__init__.py'>,\n",
       " '_i20': 'import pipe_command as pc\\nimport sympy as sp\\nx, y = sp.symbols(\\'x_1 y_1\\')\\n\"x*y\" | pc.parse_expr(local_dict=locals()|{\\'x\\': sp.Symbol(\\'x2\\')})\\n# \"2*x*y\" | pc.parse_expr(evaluate=True)\\n# \"3*x*y\" | pc.parse_expr',\n",
       " 'sp': <module 'sympy' from 'c:\\\\Users\\\\s.follador\\\\Documents\\\\github\\\\quarto_toolkit\\\\.venv\\\\Lib\\\\site-packages\\\\sympy\\\\__init__.py'>,\n",
       " '_20': x2*y_1,\n",
       " '_i21': \"x, z = sp.symbols('x3, z4')\",\n",
       " '_i22': '\"4*x*y\" | pc.parse_expr',\n",
       " '_22': 4*x*y,\n",
       " '_i23': '\"4*x*y\" | pc.parse_expr(local_dict=locals())',\n",
       " '_23': 4*x3*y_1,\n",
       " '_i24': 'from inspect import currentframe\\n\\nc = currentframe',\n",
       " 'currentframe': <function inspect.currentframe()>,\n",
       " 'c': <frame at 0x00000170C8237420, file 'C:\\\\Users\\\\s.follador\\\\AppData\\\\Local\\\\Temp\\\\ipykernel_48584\\\\2062575514.py', line 3, code <module>>,\n",
       " '_i25': 'from inspect import currentframe\\n\\nc = currentframe()',\n",
       " '_i26': 'from inspect import currentframe\\n\\nc = currentframe()\\nc',\n",
       " '_26': <frame at 0x00000170C8237880, file 'C:\\\\Users\\\\s.follador\\\\AppData\\\\Local\\\\Temp\\\\ipykernel_48584\\\\2317859189.py', line 3, code <module>>,\n",
       " '_i27': 'from inspect import currentframe\\n\\nc = currentframe()\\nc.f_locals',\n",
       " '_27': {...},\n",
       " '_i28': 'from inspect import currentframe\\n\\nc = currentframe()\\nx in c.f_locals',\n",
       " '_28': False,\n",
       " '_i29': 'from inspect import currentframe\\n\\nc = currentframe()\\nstr(x) in c.f_locals',\n",
       " '_29': False,\n",
       " '_i30': 'from inspect import currentframe\\n\\nc = currentframe()\\nrepr(x) in c.f_locals',\n",
       " '_30': False,\n",
       " '_i31': 'from inspect import currentframe\\n\\nc = currentframe()\\nc.f_locals',\n",
       " '_31': {...},\n",
       " '_i32': \"x, z = sp.symbols('x333, z4')\",\n",
       " '_i33': \"x, z = sp.symbols('x333, z4')\",\n",
       " '_i34': '\"4*x*y\" | pc.parse_expr(local_dict=locals())',\n",
       " '_34': 4*x333*y_1,\n",
       " '_i35': 'from inspect import currentframe\\n\\nc = currentframe()\\nc.f_locals'}"
      ]
     },
     "execution_count": 35,
     "metadata": {},
     "output_type": "execute_result"
    }
   ],
   "source": [
    "from inspect import currentframe\n",
    "\n",
    "c = currentframe()\n",
    "c.f_locals"
   ]
  },
  {
   "cell_type": "code",
   "execution_count": 36,
   "metadata": {},
   "outputs": [
    {
     "data": {
      "text/plain": [
       "True"
      ]
     },
     "execution_count": 36,
     "metadata": {},
     "output_type": "execute_result"
    }
   ],
   "source": [
    "'x' in c.f_locals"
   ]
  },
  {
   "cell_type": "code",
   "execution_count": 43,
   "metadata": {},
   "outputs": [
    {
     "data": {
      "text/plain": [
       "True"
      ]
     },
     "execution_count": 43,
     "metadata": {},
     "output_type": "execute_result"
    }
   ],
   "source": [
    "x in c.f_locals.values()"
   ]
  },
  {
   "cell_type": "code",
   "execution_count": 42,
   "metadata": {},
   "outputs": [
    {
     "data": {
      "text/latex": [
       "$\\displaystyle x_{123}$"
      ],
      "text/plain": [
       "x123"
      ]
     },
     "execution_count": 42,
     "metadata": {},
     "output_type": "execute_result"
    }
   ],
   "source": [
    "x = symbols('x123')\n",
    "x"
   ]
  },
  {
   "cell_type": "code",
   "execution_count": 44,
   "metadata": {},
   "outputs": [
    {
     "data": {
      "text/plain": [
       "{'__name__': '__main__',\n",
       " '__doc__': 'Automatically created module for IPython interactive environment',\n",
       " '__package__': None,\n",
       " '__loader__': None,\n",
       " '__spec__': None,\n",
       " '__builtin__': <module 'builtins' (built-in)>,\n",
       " '__builtins__': <module 'builtins' (built-in)>,\n",
       " '_ih': ['',\n",
       "  \"from itertools import chain\\n\\nsep = '&='\\na = ['key0', 'val0', 'val1', 'val2']\\n\\nsep.join(a)\\nfrom itertools import zip_longest\\n\\nd1 = {'a':1, 'b':2, 'c':3}\\nd2 = {'a':11, 'c':33}\\nd3 = {'a':111}\\nd4 = {'a':1111, 'b':2222}\\n\\n\\nkeys = d1.keys()\\n\\neqns= [d1, d2, d3, d4]\\n\\nsep = ['&', ' ']\\nsep\",\n",
       "  'rows_elements = [list(chain(k, [item.get(k) for item in eqns])) for k in keys]\\nrows_elements',\n",
       "  'wrapper = [None, (\\'=\\', \\'\\'), None, (r\\'\\\\textcolor{gray}{\\', \\'}\\'), None]\\nwrapper = [w if w is not None else (\" \", \" \") for w in wrapper]\\nwrapper',\n",
       "  '[\\n    \"\".join(\\n        [\\n            f\"{f\\'{w[0]}{str(v)}{w[1]}\\' if v is not None else \" \"} {s}\"\\n            # print(type(w))\\n            for v, s, w in zip_longest(r, sep, wrapper, fillvalue=\"\")\\n        ]\\n    )\\n    for r in rows_elements\\n]',\n",
       "  \"from IPython.display import Markdown\\n\\na = Markdown('$x$')\",\n",
       "  'a.data',\n",
       "  'from quarto_toolkit import *',\n",
       "  'a, b = symbols(\"a b\")\\n\\nmdobj = Markdown(\"ciao\")\\n_d = {a: 1, \"banana\": 3, mdobj: 4, b: None, Ge(a / b, 1): None}\\n\\n_dd = {\\n    a: \"variabile\",\\n    \"banana\": \"testo semplice $x=5/3$\",\\n    mdobj: Markdown(verifica(1, 11, Le)),\\n}\\n\\nshow_eqn([_d, _dd], col_wrap=[None, (\"=\", \"\"), (\"&\", \"\")], debug=True)',\n",
       "  'from sympy import Ge\\n\\na, b = symbols(\"a b\")\\n\\nmdobj = Markdown(\"ciao\")\\n_d = {a: 1, \"banana\": 3, mdobj: 4, b: None, Ge(a / b, 1): None}\\n\\n_dd = {\\n    a: \"variabile\",\\n    \"banana\": \"testo semplice $x=5/3$\",\\n    mdobj: Markdown(verifica(1, 11, Le)),\\n}\\n\\nshow_eqn([_d, _dd], col_wrap=[None, (\"=\", \"\"), (\"&\", \"\")], debug=True)',\n",
       "  'from sympy import Ge\\n\\na, b = symbols(\"a b\")\\n\\nmdobj = Markdown(\"ciao\")\\n_d = {a: 1, \"banana\": 3, mdobj: 4, b: None, Ge(a / b, 1): None}\\n\\n_dd = {\\n    a: \"variabile\",\\n    \"banana\": \"testo semplice $x=5/3$\",\\n    mdobj: verifica(1, 11, Le),\\n}\\n\\nshow_eqn([_d, _dd], col_wrap=[None, (\"=\", \"\"), (\"&\", \"\")], debug=True)',\n",
       "  \"from sympy import pi, S\\nx, y,z, q, w = symbols('x y z q w')\\n_d = {\\n    x : -3.123456789,\\n    y : pi,\\n    z : x*y,\\n    q : 12,\\n    w : q*u.m,    \\n}\\n_d\\n\\n_v = { k: S(v) | PipeCommand.subs(_d) | PipeCommand.N for k,v in _d.items()}\\n_v\",\n",
       "  'from quarto_toolkit import *\\nfrom pint_sympy import *\\n\\nu = unitregistry',\n",
       "  'from quarto_toolkit import *\\nfrom pint_sympy import *\\n\\nu = unitregistry',\n",
       "  'from sympy import Ge\\n\\na, b = symbols(\"a b\")\\n\\nmdobj = Markdown(\"ciao\")\\n_d = {a: 1, \"banana\": 3, mdobj: 4, b: None, Ge(a / b, 1): None}\\n\\n_dd = {\\n    a: \"variabile\",\\n    \"banana\": \"testo semplice $x=5/3$\",\\n    mdobj: verifica(1, 11, Le),\\n}\\n\\nshow_eqn([_d, _dd], col_wrap=[None, (\"=\", \"\"), (\"&\", \"\")], debug=True)',\n",
       "  \"from sympy import pi, S\\nx, y,z, q, w = symbols('x y z q w')\\n_d = {\\n    x : -3.123456789,\\n    y : pi,\\n    z : x*y,\\n    q : 12,\\n    w : q*u.m,    \\n}\\n_d\\n\\n_v = { k: S(v) | PipeCommand.subs(_d) | PipeCommand.N for k,v in _d.items()}\\n_v\",\n",
       "  \"import pipe_command as pc\\nfrom sympy import pi, S\\nx, y,z, q, w = symbols('x y z q w')\\n_d = {\\n    x : -3.123456789,\\n    y : pi,\\n    z : x*y,\\n    q : 12,\\n    w : q*u.m,    \\n}\\n_d\\n\\n_v = { k: S(v) | pc.subs(_d) | pc.N for k,v in _d.items()}\\n_v\",\n",
       "  \"show_eqn([_d, _v], mul_symbol=r'\\\\,', environment='cases', debug=True, float_format='{:+.4f}')\",\n",
       "  \"show_eqn([_d, _v], mul_symbol=r'\\\\,', environment='cases', debug=True, float_format='{:+.4f}')\",\n",
       "  're',\n",
       "  'import pipe_command as pc\\nimport sympy as sp\\nx, y = sp.symbols(\\'x_1 y_1\\')\\n\"x*y\" | pc.parse_expr(local_dict=locals()|{\\'x\\': sp.Symbol(\\'x2\\')})\\n# \"2*x*y\" | pc.parse_expr(evaluate=True)\\n# \"3*x*y\" | pc.parse_expr',\n",
       "  \"x, z = sp.symbols('x3, z4')\",\n",
       "  '\"4*x*y\" | pc.parse_expr',\n",
       "  '\"4*x*y\" | pc.parse_expr(local_dict=locals())',\n",
       "  'from inspect import currentframe\\n\\nc = currentframe',\n",
       "  'from inspect import currentframe\\n\\nc = currentframe()',\n",
       "  'from inspect import currentframe\\n\\nc = currentframe()\\nc',\n",
       "  'from inspect import currentframe\\n\\nc = currentframe()\\nc.f_locals',\n",
       "  'from inspect import currentframe\\n\\nc = currentframe()\\nx in c.f_locals',\n",
       "  'from inspect import currentframe\\n\\nc = currentframe()\\nstr(x) in c.f_locals',\n",
       "  'from inspect import currentframe\\n\\nc = currentframe()\\nrepr(x) in c.f_locals',\n",
       "  'from inspect import currentframe\\n\\nc = currentframe()\\nc.f_locals',\n",
       "  \"x, z = sp.symbols('x333, z4')\",\n",
       "  \"x, z = sp.symbols('x333, z4')\",\n",
       "  '\"4*x*y\" | pc.parse_expr(local_dict=locals())',\n",
       "  'from inspect import currentframe\\n\\nc = currentframe()\\nc.f_locals',\n",
       "  \"'x' in c.f_locals\",\n",
       "  'x',\n",
       "  'str(x)',\n",
       "  'repr(x)',\n",
       "  'x in c.f_locals.values()',\n",
       "  \"x = symbols('x123')\",\n",
       "  \"x = symbols('x123')\\nx\",\n",
       "  'x in c.f_locals.values()',\n",
       "  'c.f_locals'],\n",
       " '_oh': {1: ['&', ' '],\n",
       "  2: [['a', 1, 11, 111, 1111],\n",
       "   ['b', 2, None, None, 2222],\n",
       "   ['c', 3, 33, None, None]],\n",
       "  3: [(' ', ' '),\n",
       "   ('=', ''),\n",
       "   (' ', ' '),\n",
       "   ('\\\\textcolor{gray}{', '}'),\n",
       "   (' ', ' ')],\n",
       "  4: [' a  &=1   11  \\\\textcolor{gray}{111}  1111  ',\n",
       "   ' b  &=2       2222  ',\n",
       "   ' c  &=3   33      '],\n",
       "  6: '$x$',\n",
       "  10: <IPython.core.display.Markdown object>,\n",
       "  14: <IPython.core.display.Markdown object>,\n",
       "  16: {x: -3.12345678900000,\n",
       "   y: 3.14159265358979,\n",
       "   z: -9.81262890212757,\n",
       "   q: 12.0000000000000,\n",
       "   w: 12.0*meter},\n",
       "  17: <IPython.core.display.Markdown object>,\n",
       "  18: <IPython.core.display.Markdown object>,\n",
       "  19: <module 're' from 'C:\\\\Program Files\\\\Python312\\\\Lib\\\\re\\\\__init__.py'>,\n",
       "  20: x2*y_1,\n",
       "  22: 4*x*y,\n",
       "  23: 4*x3*y_1,\n",
       "  26: <frame at 0x00000170C8237880, file 'C:\\\\Users\\\\s.follador\\\\AppData\\\\Local\\\\Temp\\\\ipykernel_48584\\\\2317859189.py', line 3, code <module>>,\n",
       "  27: {...},\n",
       "  28: False,\n",
       "  29: False,\n",
       "  30: False,\n",
       "  31: {...},\n",
       "  34: 4*x333*y_1,\n",
       "  35: {...},\n",
       "  36: True,\n",
       "  37: x333,\n",
       "  38: 'x333',\n",
       "  39: 'x333',\n",
       "  40: True,\n",
       "  42: x123,\n",
       "  43: True},\n",
       " '_dh': [WindowsPath('c:/Users/s.follador/Documents/github/quarto_toolkit'),\n",
       "  WindowsPath('c:/Users/s.follador/Documents/github/quarto_toolkit')],\n",
       " 'In': ['',\n",
       "  \"from itertools import chain\\n\\nsep = '&='\\na = ['key0', 'val0', 'val1', 'val2']\\n\\nsep.join(a)\\nfrom itertools import zip_longest\\n\\nd1 = {'a':1, 'b':2, 'c':3}\\nd2 = {'a':11, 'c':33}\\nd3 = {'a':111}\\nd4 = {'a':1111, 'b':2222}\\n\\n\\nkeys = d1.keys()\\n\\neqns= [d1, d2, d3, d4]\\n\\nsep = ['&', ' ']\\nsep\",\n",
       "  'rows_elements = [list(chain(k, [item.get(k) for item in eqns])) for k in keys]\\nrows_elements',\n",
       "  'wrapper = [None, (\\'=\\', \\'\\'), None, (r\\'\\\\textcolor{gray}{\\', \\'}\\'), None]\\nwrapper = [w if w is not None else (\" \", \" \") for w in wrapper]\\nwrapper',\n",
       "  '[\\n    \"\".join(\\n        [\\n            f\"{f\\'{w[0]}{str(v)}{w[1]}\\' if v is not None else \" \"} {s}\"\\n            # print(type(w))\\n            for v, s, w in zip_longest(r, sep, wrapper, fillvalue=\"\")\\n        ]\\n    )\\n    for r in rows_elements\\n]',\n",
       "  \"from IPython.display import Markdown\\n\\na = Markdown('$x$')\",\n",
       "  'a.data',\n",
       "  'from quarto_toolkit import *',\n",
       "  'a, b = symbols(\"a b\")\\n\\nmdobj = Markdown(\"ciao\")\\n_d = {a: 1, \"banana\": 3, mdobj: 4, b: None, Ge(a / b, 1): None}\\n\\n_dd = {\\n    a: \"variabile\",\\n    \"banana\": \"testo semplice $x=5/3$\",\\n    mdobj: Markdown(verifica(1, 11, Le)),\\n}\\n\\nshow_eqn([_d, _dd], col_wrap=[None, (\"=\", \"\"), (\"&\", \"\")], debug=True)',\n",
       "  'from sympy import Ge\\n\\na, b = symbols(\"a b\")\\n\\nmdobj = Markdown(\"ciao\")\\n_d = {a: 1, \"banana\": 3, mdobj: 4, b: None, Ge(a / b, 1): None}\\n\\n_dd = {\\n    a: \"variabile\",\\n    \"banana\": \"testo semplice $x=5/3$\",\\n    mdobj: Markdown(verifica(1, 11, Le)),\\n}\\n\\nshow_eqn([_d, _dd], col_wrap=[None, (\"=\", \"\"), (\"&\", \"\")], debug=True)',\n",
       "  'from sympy import Ge\\n\\na, b = symbols(\"a b\")\\n\\nmdobj = Markdown(\"ciao\")\\n_d = {a: 1, \"banana\": 3, mdobj: 4, b: None, Ge(a / b, 1): None}\\n\\n_dd = {\\n    a: \"variabile\",\\n    \"banana\": \"testo semplice $x=5/3$\",\\n    mdobj: verifica(1, 11, Le),\\n}\\n\\nshow_eqn([_d, _dd], col_wrap=[None, (\"=\", \"\"), (\"&\", \"\")], debug=True)',\n",
       "  \"from sympy import pi, S\\nx, y,z, q, w = symbols('x y z q w')\\n_d = {\\n    x : -3.123456789,\\n    y : pi,\\n    z : x*y,\\n    q : 12,\\n    w : q*u.m,    \\n}\\n_d\\n\\n_v = { k: S(v) | PipeCommand.subs(_d) | PipeCommand.N for k,v in _d.items()}\\n_v\",\n",
       "  'from quarto_toolkit import *\\nfrom pint_sympy import *\\n\\nu = unitregistry',\n",
       "  'from quarto_toolkit import *\\nfrom pint_sympy import *\\n\\nu = unitregistry',\n",
       "  'from sympy import Ge\\n\\na, b = symbols(\"a b\")\\n\\nmdobj = Markdown(\"ciao\")\\n_d = {a: 1, \"banana\": 3, mdobj: 4, b: None, Ge(a / b, 1): None}\\n\\n_dd = {\\n    a: \"variabile\",\\n    \"banana\": \"testo semplice $x=5/3$\",\\n    mdobj: verifica(1, 11, Le),\\n}\\n\\nshow_eqn([_d, _dd], col_wrap=[None, (\"=\", \"\"), (\"&\", \"\")], debug=True)',\n",
       "  \"from sympy import pi, S\\nx, y,z, q, w = symbols('x y z q w')\\n_d = {\\n    x : -3.123456789,\\n    y : pi,\\n    z : x*y,\\n    q : 12,\\n    w : q*u.m,    \\n}\\n_d\\n\\n_v = { k: S(v) | PipeCommand.subs(_d) | PipeCommand.N for k,v in _d.items()}\\n_v\",\n",
       "  \"import pipe_command as pc\\nfrom sympy import pi, S\\nx, y,z, q, w = symbols('x y z q w')\\n_d = {\\n    x : -3.123456789,\\n    y : pi,\\n    z : x*y,\\n    q : 12,\\n    w : q*u.m,    \\n}\\n_d\\n\\n_v = { k: S(v) | pc.subs(_d) | pc.N for k,v in _d.items()}\\n_v\",\n",
       "  \"show_eqn([_d, _v], mul_symbol=r'\\\\,', environment='cases', debug=True, float_format='{:+.4f}')\",\n",
       "  \"show_eqn([_d, _v], mul_symbol=r'\\\\,', environment='cases', debug=True, float_format='{:+.4f}')\",\n",
       "  're',\n",
       "  'import pipe_command as pc\\nimport sympy as sp\\nx, y = sp.symbols(\\'x_1 y_1\\')\\n\"x*y\" | pc.parse_expr(local_dict=locals()|{\\'x\\': sp.Symbol(\\'x2\\')})\\n# \"2*x*y\" | pc.parse_expr(evaluate=True)\\n# \"3*x*y\" | pc.parse_expr',\n",
       "  \"x, z = sp.symbols('x3, z4')\",\n",
       "  '\"4*x*y\" | pc.parse_expr',\n",
       "  '\"4*x*y\" | pc.parse_expr(local_dict=locals())',\n",
       "  'from inspect import currentframe\\n\\nc = currentframe',\n",
       "  'from inspect import currentframe\\n\\nc = currentframe()',\n",
       "  'from inspect import currentframe\\n\\nc = currentframe()\\nc',\n",
       "  'from inspect import currentframe\\n\\nc = currentframe()\\nc.f_locals',\n",
       "  'from inspect import currentframe\\n\\nc = currentframe()\\nx in c.f_locals',\n",
       "  'from inspect import currentframe\\n\\nc = currentframe()\\nstr(x) in c.f_locals',\n",
       "  'from inspect import currentframe\\n\\nc = currentframe()\\nrepr(x) in c.f_locals',\n",
       "  'from inspect import currentframe\\n\\nc = currentframe()\\nc.f_locals',\n",
       "  \"x, z = sp.symbols('x333, z4')\",\n",
       "  \"x, z = sp.symbols('x333, z4')\",\n",
       "  '\"4*x*y\" | pc.parse_expr(local_dict=locals())',\n",
       "  'from inspect import currentframe\\n\\nc = currentframe()\\nc.f_locals',\n",
       "  \"'x' in c.f_locals\",\n",
       "  'x',\n",
       "  'str(x)',\n",
       "  'repr(x)',\n",
       "  'x in c.f_locals.values()',\n",
       "  \"x = symbols('x123')\",\n",
       "  \"x = symbols('x123')\\nx\",\n",
       "  'x in c.f_locals.values()',\n",
       "  'c.f_locals'],\n",
       " 'Out': {1: ['&', ' '],\n",
       "  2: [['a', 1, 11, 111, 1111],\n",
       "   ['b', 2, None, None, 2222],\n",
       "   ['c', 3, 33, None, None]],\n",
       "  3: [(' ', ' '),\n",
       "   ('=', ''),\n",
       "   (' ', ' '),\n",
       "   ('\\\\textcolor{gray}{', '}'),\n",
       "   (' ', ' ')],\n",
       "  4: [' a  &=1   11  \\\\textcolor{gray}{111}  1111  ',\n",
       "   ' b  &=2       2222  ',\n",
       "   ' c  &=3   33      '],\n",
       "  6: '$x$',\n",
       "  10: <IPython.core.display.Markdown object>,\n",
       "  14: <IPython.core.display.Markdown object>,\n",
       "  16: {x: -3.12345678900000,\n",
       "   y: 3.14159265358979,\n",
       "   z: -9.81262890212757,\n",
       "   q: 12.0000000000000,\n",
       "   w: 12.0*meter},\n",
       "  17: <IPython.core.display.Markdown object>,\n",
       "  18: <IPython.core.display.Markdown object>,\n",
       "  19: <module 're' from 'C:\\\\Program Files\\\\Python312\\\\Lib\\\\re\\\\__init__.py'>,\n",
       "  20: x2*y_1,\n",
       "  22: 4*x*y,\n",
       "  23: 4*x3*y_1,\n",
       "  26: <frame at 0x00000170C8237880, file 'C:\\\\Users\\\\s.follador\\\\AppData\\\\Local\\\\Temp\\\\ipykernel_48584\\\\2317859189.py', line 3, code <module>>,\n",
       "  27: {...},\n",
       "  28: False,\n",
       "  29: False,\n",
       "  30: False,\n",
       "  31: {...},\n",
       "  34: 4*x333*y_1,\n",
       "  35: {...},\n",
       "  36: True,\n",
       "  37: x333,\n",
       "  38: 'x333',\n",
       "  39: 'x333',\n",
       "  40: True,\n",
       "  42: x123,\n",
       "  43: True},\n",
       " 'get_ipython': <bound method InteractiveShell.get_ipython of <ipykernel.zmqshell.ZMQInteractiveShell object at 0x00000170C4EA5070>>,\n",
       " 'exit': <IPython.core.autocall.ZMQExitAutocall at 0x170c4d25ee0>,\n",
       " 'quit': <IPython.core.autocall.ZMQExitAutocall at 0x170c4d25ee0>,\n",
       " 'open': <function _io.open(file, mode='r', buffering=-1, encoding=None, errors=None, newline=None, closefd=True, opener=None)>,\n",
       " '_': True,\n",
       " '__': x123,\n",
       " '___': True,\n",
       " '__vsc_ipynb_file__': 'c:\\\\Users\\\\s.follador\\\\Documents\\\\github\\\\quarto_toolkit\\\\test.ipynb',\n",
       " '_i': 'x in c.f_locals.values()',\n",
       " '_ii': \"x = symbols('x123')\\nx\",\n",
       " '_iii': \"x = symbols('x123')\",\n",
       " '_i1': \"from itertools import chain\\n\\nsep = '&='\\na = ['key0', 'val0', 'val1', 'val2']\\n\\nsep.join(a)\\nfrom itertools import zip_longest\\n\\nd1 = {'a':1, 'b':2, 'c':3}\\nd2 = {'a':11, 'c':33}\\nd3 = {'a':111}\\nd4 = {'a':1111, 'b':2222}\\n\\n\\nkeys = d1.keys()\\n\\neqns= [d1, d2, d3, d4]\\n\\nsep = ['&', ' ']\\nsep\",\n",
       " 'chain': itertools.chain,\n",
       " 'sep': ['&', ' '],\n",
       " 'a': a,\n",
       " 'zip_longest': itertools.zip_longest,\n",
       " 'd1': {'a': 1, 'b': 2, 'c': 3},\n",
       " 'd2': {'a': 11, 'c': 33},\n",
       " 'd3': {'a': 111},\n",
       " 'd4': {'a': 1111, 'b': 2222},\n",
       " 'keys': dict_keys(['a', 'b', 'c']),\n",
       " 'eqns': [{'a': 1, 'b': 2, 'c': 3},\n",
       "  {'a': 11, 'c': 33},\n",
       "  {'a': 111},\n",
       "  {'a': 1111, 'b': 2222}],\n",
       " '_1': ['&', ' '],\n",
       " '_i2': 'rows_elements = [list(chain(k, [item.get(k) for item in eqns])) for k in keys]\\nrows_elements',\n",
       " 'rows_elements': [['a', 1, 11, 111, 1111],\n",
       "  ['b', 2, None, None, 2222],\n",
       "  ['c', 3, 33, None, None]],\n",
       " '_2': [['a', 1, 11, 111, 1111],\n",
       "  ['b', 2, None, None, 2222],\n",
       "  ['c', 3, 33, None, None]],\n",
       " '_i3': 'wrapper = [None, (\\'=\\', \\'\\'), None, (r\\'\\\\textcolor{gray}{\\', \\'}\\'), None]\\nwrapper = [w if w is not None else (\" \", \" \") for w in wrapper]\\nwrapper',\n",
       " 'wrapper': [(' ', ' '),\n",
       "  ('=', ''),\n",
       "  (' ', ' '),\n",
       "  ('\\\\textcolor{gray}{', '}'),\n",
       "  (' ', ' ')],\n",
       " '_3': [(' ', ' '),\n",
       "  ('=', ''),\n",
       "  (' ', ' '),\n",
       "  ('\\\\textcolor{gray}{', '}'),\n",
       "  (' ', ' ')],\n",
       " '_i4': '[\\n    \"\".join(\\n        [\\n            f\"{f\\'{w[0]}{str(v)}{w[1]}\\' if v is not None else \" \"} {s}\"\\n            # print(type(w))\\n            for v, s, w in zip_longest(r, sep, wrapper, fillvalue=\"\")\\n        ]\\n    )\\n    for r in rows_elements\\n]',\n",
       " '_4': [' a  &=1   11  \\\\textcolor{gray}{111}  1111  ',\n",
       "  ' b  &=2       2222  ',\n",
       "  ' c  &=3   33      '],\n",
       " '_i5': \"from IPython.display import Markdown\\n\\na = Markdown('$x$')\",\n",
       " 'Markdown': IPython.core.display.Markdown,\n",
       " '_i6': 'a.data',\n",
       " '_6': '$x$',\n",
       " '_i7': 'from quarto_toolkit import *',\n",
       " 'warn': <function _warnings.warn>,\n",
       " 'latex': <sympy.printing.printer._PrintFunction at 0x170c5972600>,\n",
       " 'Eq': sympy.core.relational.Equality,\n",
       " 'Le': sympy.core.relational.LessThan,\n",
       " 'symbols': <function sympy.core.symbol.symbols(names, *, cls=<class 'sympy.core.symbol.Symbol'>, **args) -> 'Any'>,\n",
       " 'Basic': sympy.core.basic.Basic,\n",
       " 'FunctionClass': sympy.core.function.FunctionClass,\n",
       " 'Dict': sympy.core.containers.Dict,\n",
       " 'display': <function IPython.core.display_functions.display(*objs, include=None, exclude=None, metadata=None, transient=None, display_id=None, raw=False, clear=False, **kwargs)>,\n",
       " 're': <module 're' from 'C:\\\\Program Files\\\\Python312\\\\Lib\\\\re\\\\__init__.py'>,\n",
       " 'KaTeX_compatibility': {'default_environment': 'align',\n",
       "  'default_label_command': '\\\\\\\\%\\\\label',\n",
       "  'default_mul_symbol': '\\\\,'},\n",
       " 'EQ_PREFIX': 'eq-',\n",
       " 'EQ_SUFFIX': '',\n",
       " 'VERTICAL_SKIP': '8pt',\n",
       " 'PRINT_LABEL': True,\n",
       " 'replacement': {'^{1}': '',\n",
       "  '^{1 \\\\cdot': '^{ ',\n",
       "  '\\\\frac': '\\\\dfrac',\n",
       "  '\\\\\\\\': '\\\\\\\\[8pt]',\n",
       "  'for': 'per',\n",
       "  'otherwise': 'altrimenti',\n",
       "  '\\\\,': '{\\\\,}'},\n",
       " 'verifica': <function quarto_toolkit.verifica(lhs, rhs, test=<class 'sympy.core.relational.LessThan'>) -> IPython.core.display.Markdown>,\n",
       " 'show_eqn': <function quarto_toolkit.show_eqn(eqns: dict | list[dict], environment: str = 'align', sep: str | list[str] = '&', label: str | dict = None, label_command: str = None, col_wrap: list[None | tuple] = None, float_format: str = None, debug: bool = False, **kwargs) -> IPython.core.display.Markdown>,\n",
       " 'myprint_latex': <function quarto_toolkit.myprint_latex(expr: sympy.core.basic.Basic | str | IPython.core.display.Markdown, **kwargs) -> str>,\n",
       " 'format_decimal_numbers': <function quarto_toolkit.format_decimal_numbers(text, format_string='{:.2f}')>,\n",
       " 'dict_to_eq': <function quarto_toolkit.dict_to_eq(result: dict)>,\n",
       " 'eq_to_dict': <function quarto_toolkit.eq_to_dict(result: sympy.core.relational.Equality | list | tuple)>,\n",
       " 'fd': <module 'flatten_dict' from 'c:\\\\Users\\\\s.follador\\\\Documents\\\\github\\\\quarto_toolkit\\\\.venv\\\\Lib\\\\site-packages\\\\flatten_dict\\\\__init__.py'>,\n",
       " 'yaml': <module 'yaml' from 'c:\\\\Users\\\\s.follador\\\\Documents\\\\github\\\\quarto_toolkit\\\\.venv\\\\Lib\\\\site-packages\\\\yaml\\\\__init__.py'>,\n",
       " 'load_data': <function quarto_toolkit.load_data(main: str, updated_value: str) -> dict>,\n",
       " 'escape_name': <function quarto_toolkit.escape_name(symbol_name, dict_of_subs={})>,\n",
       " 'escape_var': <function quarto_toolkit.escape_var(names, dict_of_subs=None, **args)>,\n",
       " 'replace_all': <function quarto_toolkit.replace_all(body, reps={'^{1}': '', '^{1 \\\\cdot': '^{ ', '\\\\frac': '\\\\dfrac', '\\\\\\\\': '\\\\\\\\[8pt]', 'for': 'per', 'otherwise': 'altrimenti', '\\\\,': '{\\\\,}'})>,\n",
       " 'latex_inline_dict': <function quarto_toolkit.latex_inline_dict(var, mapping: dict, **kwargs)>,\n",
       " 'os': <module 'os' (frozen)>,\n",
       " 'Path': pathlib.Path,\n",
       " 'insert_images': <function quarto_toolkit.insert_images(source_path, dest_path='.', fig_opt='')>,\n",
       " '_i8': 'a, b = symbols(\"a b\")\\n\\nmdobj = Markdown(\"ciao\")\\n_d = {a: 1, \"banana\": 3, mdobj: 4, b: None, Ge(a / b, 1): None}\\n\\n_dd = {\\n    a: \"variabile\",\\n    \"banana\": \"testo semplice $x=5/3$\",\\n    mdobj: Markdown(verifica(1, 11, Le)),\\n}\\n\\nshow_eqn([_d, _dd], col_wrap=[None, (\"=\", \"\"), (\"&\", \"\")], debug=True)',\n",
       " 'b': b,\n",
       " 'mdobj': <IPython.core.display.Markdown object>,\n",
       " '_i9': 'from sympy import Ge\\n\\na, b = symbols(\"a b\")\\n\\nmdobj = Markdown(\"ciao\")\\n_d = {a: 1, \"banana\": 3, mdobj: 4, b: None, Ge(a / b, 1): None}\\n\\n_dd = {\\n    a: \"variabile\",\\n    \"banana\": \"testo semplice $x=5/3$\",\\n    mdobj: Markdown(verifica(1, 11, Le)),\\n}\\n\\nshow_eqn([_d, _dd], col_wrap=[None, (\"=\", \"\"), (\"&\", \"\")], debug=True)',\n",
       " 'Ge': sympy.core.relational.GreaterThan,\n",
       " '_d': {x: -3.123456789, y: pi, z: x*y, q: 12, w: meter*q},\n",
       " '_i10': 'from sympy import Ge\\n\\na, b = symbols(\"a b\")\\n\\nmdobj = Markdown(\"ciao\")\\n_d = {a: 1, \"banana\": 3, mdobj: 4, b: None, Ge(a / b, 1): None}\\n\\n_dd = {\\n    a: \"variabile\",\\n    \"banana\": \"testo semplice $x=5/3$\",\\n    mdobj: verifica(1, 11, Le),\\n}\\n\\nshow_eqn([_d, _dd], col_wrap=[None, (\"=\", \"\"), (\"&\", \"\")], debug=True)',\n",
       " '_dd': {a: 'variabile',\n",
       "  'banana': 'testo semplice $x=5/3$',\n",
       "  <IPython.core.display.Markdown object>: <IPython.core.display.Markdown object>},\n",
       " '_10': <IPython.core.display.Markdown object>,\n",
       " '_i11': \"from sympy import pi, S\\nx, y,z, q, w = symbols('x y z q w')\\n_d = {\\n    x : -3.123456789,\\n    y : pi,\\n    z : x*y,\\n    q : 12,\\n    w : q*u.m,    \\n}\\n_d\\n\\n_v = { k: S(v) | PipeCommand.subs(_d) | PipeCommand.N for k,v in _d.items()}\\n_v\",\n",
       " 'pi': pi,\n",
       " 'S': S,\n",
       " 'x': x123,\n",
       " 'y': y_1,\n",
       " 'z': z4,\n",
       " 'q': q,\n",
       " 'w': w,\n",
       " '_i12': 'from quarto_toolkit import *\\nfrom pint_sympy import *\\n\\nu = unitregistry',\n",
       " 'pint': <module 'pint' from 'c:\\\\Users\\\\s.follador\\\\Documents\\\\github\\\\quarto_toolkit\\\\.venv\\\\Lib\\\\site-packages\\\\pint\\\\__init__.py'>,\n",
       " 'sympy_units': <module 'sympy.physics.units' from 'c:\\\\Users\\\\s.follador\\\\Documents\\\\github\\\\quarto_toolkit\\\\.venv\\\\Lib\\\\site-packages\\\\sympy\\\\physics\\\\units\\\\__init__.py'>,\n",
       " 'convert_to': <function sympy.physics.units.util.convert_to(expr, target_units, unit_system='SI')>,\n",
       " 'nsimplify': <function sympy.simplify.simplify.nsimplify(expr, constants=(), tolerance=None, full=False, rational=None, rational_conversion='base10')>,\n",
       " 'sympify': <function sympy.core.sympify.sympify(a, locals=None, convert_xor=True, strict=False, rational=False, evaluate=None)>,\n",
       " 'unitregistry': <pint.registry.UnitRegistry at 0x170c4f04a10>,\n",
       " 'pint_to_sympy': <function pint_sympy.pint_to_sympy(quantity: pint.Quantity)>,\n",
       " 'u': <pint.registry.UnitRegistry at 0x170c4f04a10>,\n",
       " '_i13': 'from quarto_toolkit import *\\nfrom pint_sympy import *\\n\\nu = unitregistry',\n",
       " '_i14': 'from sympy import Ge\\n\\na, b = symbols(\"a b\")\\n\\nmdobj = Markdown(\"ciao\")\\n_d = {a: 1, \"banana\": 3, mdobj: 4, b: None, Ge(a / b, 1): None}\\n\\n_dd = {\\n    a: \"variabile\",\\n    \"banana\": \"testo semplice $x=5/3$\",\\n    mdobj: verifica(1, 11, Le),\\n}\\n\\nshow_eqn([_d, _dd], col_wrap=[None, (\"=\", \"\"), (\"&\", \"\")], debug=True)',\n",
       " '_14': <IPython.core.display.Markdown object>,\n",
       " '_i15': \"from sympy import pi, S\\nx, y,z, q, w = symbols('x y z q w')\\n_d = {\\n    x : -3.123456789,\\n    y : pi,\\n    z : x*y,\\n    q : 12,\\n    w : q*u.m,    \\n}\\n_d\\n\\n_v = { k: S(v) | PipeCommand.subs(_d) | PipeCommand.N for k,v in _d.items()}\\n_v\",\n",
       " '_i16': \"import pipe_command as pc\\nfrom sympy import pi, S\\nx, y,z, q, w = symbols('x y z q w')\\n_d = {\\n    x : -3.123456789,\\n    y : pi,\\n    z : x*y,\\n    q : 12,\\n    w : q*u.m,    \\n}\\n_d\\n\\n_v = { k: S(v) | pc.subs(_d) | pc.N for k,v in _d.items()}\\n_v\",\n",
       " 'pc': <module 'pipe_command' from 'c:\\\\Users\\\\s.follador\\\\Documents\\\\github\\\\quarto_toolkit\\\\pipe_command.py'>,\n",
       " '_v': {x: -3.12345678900000,\n",
       "  y: 3.14159265358979,\n",
       "  z: -9.81262890212757,\n",
       "  q: 12.0000000000000,\n",
       "  w: 12.0*meter},\n",
       " '_16': {x: -3.12345678900000,\n",
       "  y: 3.14159265358979,\n",
       "  z: -9.81262890212757,\n",
       "  q: 12.0000000000000,\n",
       "  w: 12.0*meter},\n",
       " '_i17': \"show_eqn([_d, _v], mul_symbol=r'\\\\,', environment='cases', debug=True, float_format='{:+.4f}')\",\n",
       " '_17': <IPython.core.display.Markdown object>,\n",
       " '_i18': \"show_eqn([_d, _v], mul_symbol=r'\\\\,', environment='cases', debug=True, float_format='{:+.4f}')\",\n",
       " '_18': <IPython.core.display.Markdown object>,\n",
       " '_i19': 're',\n",
       " '_19': <module 're' from 'C:\\\\Program Files\\\\Python312\\\\Lib\\\\re\\\\__init__.py'>,\n",
       " '_i20': 'import pipe_command as pc\\nimport sympy as sp\\nx, y = sp.symbols(\\'x_1 y_1\\')\\n\"x*y\" | pc.parse_expr(local_dict=locals()|{\\'x\\': sp.Symbol(\\'x2\\')})\\n# \"2*x*y\" | pc.parse_expr(evaluate=True)\\n# \"3*x*y\" | pc.parse_expr',\n",
       " 'sp': <module 'sympy' from 'c:\\\\Users\\\\s.follador\\\\Documents\\\\github\\\\quarto_toolkit\\\\.venv\\\\Lib\\\\site-packages\\\\sympy\\\\__init__.py'>,\n",
       " '_20': x2*y_1,\n",
       " '_i21': \"x, z = sp.symbols('x3, z4')\",\n",
       " '_i22': '\"4*x*y\" | pc.parse_expr',\n",
       " '_22': 4*x*y,\n",
       " '_i23': '\"4*x*y\" | pc.parse_expr(local_dict=locals())',\n",
       " '_23': 4*x3*y_1,\n",
       " '_i24': 'from inspect import currentframe\\n\\nc = currentframe',\n",
       " 'currentframe': <function inspect.currentframe()>,\n",
       " 'c': <frame at 0x00000170C8237420, file 'C:\\\\Users\\\\s.follador\\\\AppData\\\\Local\\\\Temp\\\\ipykernel_48584\\\\2062575514.py', line 3, code <module>>,\n",
       " '_i25': 'from inspect import currentframe\\n\\nc = currentframe()',\n",
       " '_i26': 'from inspect import currentframe\\n\\nc = currentframe()\\nc',\n",
       " '_26': <frame at 0x00000170C8237880, file 'C:\\\\Users\\\\s.follador\\\\AppData\\\\Local\\\\Temp\\\\ipykernel_48584\\\\2317859189.py', line 3, code <module>>,\n",
       " '_i27': 'from inspect import currentframe\\n\\nc = currentframe()\\nc.f_locals',\n",
       " '_27': {...},\n",
       " '_i28': 'from inspect import currentframe\\n\\nc = currentframe()\\nx in c.f_locals',\n",
       " '_28': False,\n",
       " '_i29': 'from inspect import currentframe\\n\\nc = currentframe()\\nstr(x) in c.f_locals',\n",
       " '_29': False,\n",
       " '_i30': 'from inspect import currentframe\\n\\nc = currentframe()\\nrepr(x) in c.f_locals',\n",
       " '_30': False,\n",
       " '_i31': 'from inspect import currentframe\\n\\nc = currentframe()\\nc.f_locals',\n",
       " '_31': {...},\n",
       " '_i32': \"x, z = sp.symbols('x333, z4')\",\n",
       " '_i33': \"x, z = sp.symbols('x333, z4')\",\n",
       " '_i34': '\"4*x*y\" | pc.parse_expr(local_dict=locals())',\n",
       " '_34': 4*x333*y_1,\n",
       " '_i35': 'from inspect import currentframe\\n\\nc = currentframe()\\nc.f_locals',\n",
       " '_35': {...},\n",
       " '_i36': \"'x' in c.f_locals\",\n",
       " '_36': True,\n",
       " '_i37': 'x',\n",
       " '_37': x333,\n",
       " '_i38': 'str(x)',\n",
       " '_38': 'x333',\n",
       " '_i39': 'repr(x)',\n",
       " '_39': 'x333',\n",
       " '_i40': 'x in c.f_locals.values()',\n",
       " '_40': True,\n",
       " '_i41': \"x = symbols('x123')\",\n",
       " '_i42': \"x = symbols('x123')\\nx\",\n",
       " '_42': x123,\n",
       " '_i43': 'x in c.f_locals.values()',\n",
       " '_43': True,\n",
       " '_i44': 'c.f_locals'}"
      ]
     },
     "execution_count": 44,
     "metadata": {},
     "output_type": "execute_result"
    }
   ],
   "source": [
    "c.f_locals"
   ]
  },
  {
   "cell_type": "code",
   "execution_count": 48,
   "metadata": {},
   "outputs": [
    {
     "data": {
      "text/latex": [
       "$\\displaystyle ciao$"
      ],
      "text/plain": [
       "ciao"
      ]
     },
     "execution_count": 48,
     "metadata": {},
     "output_type": "execute_result"
    }
   ],
   "source": [
    "escape_var('ciao', {'c': 'C'})"
   ]
  },
  {
   "cell_type": "code",
   "execution_count": 1,
   "metadata": {},
   "outputs": [
    {
     "ename": "NameError",
     "evalue": "name 'pc' is not defined",
     "output_type": "error",
     "traceback": [
      "\u001b[1;31m---------------------------------------------------------------------------\u001b[0m",
      "\u001b[1;31mNameError\u001b[0m                                 Traceback (most recent call last)",
      "Cell \u001b[1;32mIn[1], line 1\u001b[0m\n\u001b[1;32m----> 1\u001b[0m \u001b[38;5;124m'\u001b[39m\u001b[38;5;124m x*y\u001b[39m\u001b[38;5;124m'\u001b[39m \u001b[38;5;241m|\u001b[39m \u001b[43mpc\u001b[49m\u001b[38;5;241m.\u001b[39mparse_expr(local_dict\u001b[38;5;241m=\u001b[39m\u001b[38;5;28mlocals\u001b[39m())\n",
      "\u001b[1;31mNameError\u001b[0m: name 'pc' is not defined"
     ]
    }
   ],
   "source": [
    "' x*y' | pc.parse_expr(local_dict=locals())"
   ]
  },
  {
   "cell_type": "code",
   "execution_count": 2,
   "metadata": {},
   "outputs": [],
   "source": [
    "from pipe_command import *\n",
    "from sympy import symbols\n",
    "\n",
    "x, y = symbols('x1 y2')"
   ]
  },
  {
   "cell_type": "code",
   "execution_count": 5,
   "metadata": {},
   "outputs": [
    {
     "data": {
      "text/latex": [
       "$\\displaystyle x_{1} y_{2} y_{2}$"
      ],
      "text/plain": [
       "x1*y2*y2"
      ]
     },
     "execution_count": 5,
     "metadata": {},
     "output_type": "execute_result"
    }
   ],
   "source": [
    "'x*y*y' | parse_expr"
   ]
  },
  {
   "cell_type": "code",
   "execution_count": 4,
   "metadata": {},
   "outputs": [
    {
     "data": {
      "text/latex": [
       "$\\displaystyle x_{1}$"
      ],
      "text/plain": [
       "x1"
      ]
     },
     "execution_count": 4,
     "metadata": {},
     "output_type": "execute_result"
    }
   ],
   "source": [
    "x"
   ]
  },
  {
   "cell_type": "code",
   "execution_count": null,
   "metadata": {},
   "outputs": [],
   "source": []
  }
 ],
 "metadata": {
  "kernelspec": {
   "display_name": "Python 3",
   "language": "python",
   "name": "python3"
  },
  "language_info": {
   "codemirror_mode": {
    "name": "ipython",
    "version": 3
   },
   "file_extension": ".py",
   "mimetype": "text/x-python",
   "name": "python",
   "nbconvert_exporter": "python",
   "pygments_lexer": "ipython3",
   "version": "3.12.2"
  }
 },
 "nbformat": 4,
 "nbformat_minor": 2
}
